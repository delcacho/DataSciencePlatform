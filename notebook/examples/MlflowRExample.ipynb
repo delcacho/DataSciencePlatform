{
 "cells": [
  {
   "cell_type": "code",
   "execution_count": 1,
   "metadata": {},
   "outputs": [
    {
     "name": "stderr",
     "output_type": "stream",
     "text": [
      "Loading required package: Matrix\n",
      "\n",
      "Loaded glmnet 4.0\n",
      "\n",
      "Elasticnet model (alpha=0.5, lambda=0.5):\n",
      "\n",
      "  RMSE: 0.825732567270273\n",
      "\n",
      "  MAE: 0.633544433728459\n",
      "\n",
      "  R2: 0.155487906900828\n",
      "\n"
     ]
    },
    {
     "ename": "ERROR",
     "evalue": "Error in get_python_bin(): MLflow not configured, please run install_mlflow() or set MLFLOW_PYTHON_BIN and MLFLOW_BIN environment variables.\n",
     "output_type": "error",
     "traceback": [
      "Error in get_python_bin(): MLflow not configured, please run install_mlflow() or set MLFLOW_PYTHON_BIN and MLFLOW_BIN environment variables.\nTraceback:\n",
      "1. with(mlflow_start_run(), {\n .     model <- glmnet(train_x, train_y, alpha = alpha, lambda = lambda, \n .         family = \"gaussian\", standardize = FALSE)\n .     predictor <- crate(~glmnet::predict.glmnet(!!model, as.matrix(.x)), \n .         !!model)\n .     predicted <- predictor(test_x)\n .     rmse <- sqrt(mean((predicted - test_y)^2))\n .     mae <- mean(abs(predicted - test_y))\n .     r2 <- as.numeric(cor(predicted, test_y)^2)\n .     message(\"Elasticnet model (alpha=\", alpha, \", lambda=\", lambda, \n .         \"):\")\n .     message(\"  RMSE: \", rmse)\n .     message(\"  MAE: \", mae)\n .     message(\"  R2: \", r2)\n .     mlflow_log_param(\"alpha\", alpha)\n .     mlflow_log_param(\"lambda\", lambda)\n .     mlflow_log_metric(\"rmse\", rmse)\n .     mlflow_log_metric(\"r2\", r2)\n .     mlflow_log_metric(\"mae\", mae)\n .     mlflow_log_model(predictor, \"model\")\n . })",
      "2. with.mlflow_run(mlflow_start_run(), {\n .     model <- glmnet(train_x, train_y, alpha = alpha, lambda = lambda, \n .         family = \"gaussian\", standardize = FALSE)\n .     predictor <- crate(~glmnet::predict.glmnet(!!model, as.matrix(.x)), \n .         !!model)\n .     predicted <- predictor(test_x)\n .     rmse <- sqrt(mean((predicted - test_y)^2))\n .     mae <- mean(abs(predicted - test_y))\n .     r2 <- as.numeric(cor(predicted, test_y)^2)\n .     message(\"Elasticnet model (alpha=\", alpha, \", lambda=\", lambda, \n .         \"):\")\n .     message(\"  RMSE: \", rmse)\n .     message(\"  MAE: \", mae)\n .     message(\"  R2: \", r2)\n .     mlflow_log_param(\"alpha\", alpha)\n .     mlflow_log_param(\"lambda\", lambda)\n .     mlflow_log_metric(\"rmse\", rmse)\n .     mlflow_log_metric(\"r2\", r2)\n .     mlflow_log_metric(\"mae\", mae)\n .     mlflow_log_model(predictor, \"model\")\n . })",
      "3. tryCatch({\n .     force(expr)\n .     mlflow_end_run()\n . }, error = function(cnd) {\n .     message(cnd)\n .     mlflow_end_run(status = \"FAILED\")\n . }, interrupt = function(cnd) mlflow_end_run(status = \"KILLED\"))",
      "4. tryCatchList(expr, classes, parentenv, handlers)",
      "5. tryCatchOne(tryCatchList(expr, names[-nh], parentenv, handlers[-nh]), \n .     names[nh], parentenv, handlers[[nh]])",
      "6. doTryCatch(return(expr), name, parentenv, handler)",
      "7. tryCatchList(expr, names[-nh], parentenv, handlers[-nh])",
      "8. tryCatchOne(expr, names, parentenv, handlers[[1L]])",
      "9. value[[3L]](cond)",
      "10. message(cnd)",
      "11. withRestarts({\n  .     signalCondition(cond)\n  .     defaultHandler(cond)\n  . }, muffleMessage = function() NULL)",
      "12. withOneRestart(expr, restarts[[1L]])",
      "13. doWithOneRestart(return(expr), restart)"
     ]
    }
   ],
   "source": [
    "library(mlflow)\n",
    "library(glmnet)\n",
    "library(carrier)\n",
    "\n",
    "mlflow_set_tracking_uri(\"http://mlflow.bayescluster.com\")\n",
    "\n",
    "# Read the wine-quality csv file\n",
    "data <- read.csv(\"https://raw.githubusercontent.com/databricks/mlflow-example-sklearn-elasticnet-wine/master/wine-quality.csv\")\n",
    "\n",
    "# Split the data into training and test sets. (0.75, 0.25) split.\n",
    "sampled <- sample(1:nrow(data), 0.75 * nrow(data))\n",
    "train <- data[sampled, ]\n",
    "test <- data[-sampled, ]\n",
    "\n",
    "# The predicted column is \"quality\" which is a scalar from [3, 9]\n",
    "train_x <- as.matrix(train[, !(names(train) == \"quality\")])\n",
    "test_x <- as.matrix(test[, !(names(train) == \"quality\")])\n",
    "train_y <- train[, \"quality\"]\n",
    "test_y <- test[, \"quality\"]\n",
    "\n",
    "alpha <- mlflow_param(\"alpha\", 0.5, \"numeric\")\n",
    "lambda <- mlflow_param(\"lambda\", 0.5, \"numeric\")\n",
    "\n",
    "with(mlflow_start_run(), {\n",
    "    model <- glmnet(train_x, train_y, alpha = alpha, lambda = lambda, family= \"gaussian\", standardize = FALSE)\n",
    "    predictor <- crate(~ glmnet::predict.glmnet(!!model, as.matrix(.x)), !!model)\n",
    "    predicted <- predictor(test_x)\n",
    "\n",
    "    rmse <- sqrt(mean((predicted - test_y) ^ 2))\n",
    "    mae <- mean(abs(predicted - test_y))\n",
    "    r2 <- as.numeric(cor(predicted, test_y) ^ 2)\n",
    "\n",
    "    message(\"Elasticnet model (alpha=\", alpha, \", lambda=\", lambda, \"):\")\n",
    "    message(\"  RMSE: \", rmse)\n",
    "    message(\"  MAE: \", mae)\n",
    "    message(\"  R2: \", r2)\n",
    "\n",
    "    mlflow_log_param(\"alpha\", alpha)\n",
    "    mlflow_log_param(\"lambda\", lambda)\n",
    "    mlflow_log_metric(\"rmse\", rmse)\n",
    "    mlflow_log_metric(\"r2\", r2)\n",
    "    mlflow_log_metric(\"mae\", mae)\n",
    "\n",
    "    mlflow_log_model(predictor, \"model\")\n",
    "})"
   ]
  },
  {
   "cell_type": "code",
   "execution_count": null,
   "metadata": {},
   "outputs": [],
   "source": [
    "install.packages(\"carrier\")"
   ]
  },
  {
   "cell_type": "code",
   "execution_count": null,
   "metadata": {},
   "outputs": [],
   "source": []
  }
 ],
 "metadata": {
  "kernelspec": {
   "display_name": "R 4.0.0",
   "language": "R",
   "name": "ir"
  },
  "language_info": {
   "codemirror_mode": "r",
   "file_extension": ".r",
   "mimetype": "text/x-r-source",
   "name": "R",
   "pygments_lexer": "r",
   "version": "4.0.0"
  }
 },
 "nbformat": 4,
 "nbformat_minor": 4
}
