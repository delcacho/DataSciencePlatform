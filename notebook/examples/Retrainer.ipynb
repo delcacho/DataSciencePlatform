{
 "cells": [
  {
   "cell_type": "code",
   "execution_count": null,
   "metadata": {},
   "outputs": [],
   "source": [
    "!git clone https://github.com/delcacho/mlflow-example.git"
   ]
  },
  {
   "cell_type": "code",
   "execution_count": null,
   "metadata": {},
   "outputs": [],
   "source": [
    "import getpass\n",
    "user = input('Docker user:')\n",
    "pwd = getpass.getpass('Docker password:')\n",
    "fp = open(\"pwd.txt\",\"w\")\n",
    "fp.write(pwd)\n",
    "fp.close()"
   ]
  },
  {
   "cell_type": "code",
   "execution_count": null,
   "metadata": {},
   "outputs": [],
   "source": [
    "!cat pwd.txt | docker login --username \"$user\" --password-stdin\n",
    "!rm pwd.txt"
   ]
  },
  {
   "cell_type": "code",
   "execution_count": null,
   "metadata": {},
   "outputs": [],
   "source": [
    "import os\n",
    "user = input('Git user:')\n",
    "pwd = getpass.getpass('Git password:')\n",
    "os.environ['MLFLOW_GIT_USERNAME'] = user\n",
    "os.environ['MLFLOW_GIT_PASSWORD'] = pwd"
   ]
  },
  {
   "cell_type": "code",
   "execution_count": null,
   "metadata": {},
   "outputs": [],
   "source": [
    "!mlflow run https://github.com/delcacho/mlflow-example.git --backend kubernetes --backend-config mlflow-example/kubernetes_config.json -P alpha=0.5"
   ]
  }
 ],
 "metadata": {
  "kernelspec": {
   "display_name": "Python 3",
   "language": "python",
   "name": "python3"
  },
  "language_info": {
   "codemirror_mode": {
    "name": "ipython",
    "version": 3
   },
   "file_extension": ".py",
   "mimetype": "text/x-python",
   "name": "python",
   "nbconvert_exporter": "python",
   "pygments_lexer": "ipython3",
   "version": "3.6.10"
  }
 },
 "nbformat": 4,
 "nbformat_minor": 4
}
