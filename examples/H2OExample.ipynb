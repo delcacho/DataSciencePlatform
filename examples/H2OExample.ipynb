{
 "cells": [
  {
   "cell_type": "code",
   "execution_count": 1,
   "metadata": {},
   "outputs": [
    {
     "name": "stdout",
     "output_type": "stream",
     "text": [
      "\n",
      "Sparkling Water Context:\n",
      " * Sparkling Water Version: 3.30.0.1-1-2.4\n",
      " * H2O name: admin\n",
      " * cluster size: 4\n",
      " * list of used nodes:\n",
      "  (executorId, host, port)\n",
      "  ------------------------\n",
      "  (0,100.96.3.7,54321)\n",
      "  (1,100.96.4.8,54321)\n",
      "  (2,100.96.5.9,54321)\n",
      "  (3,100.96.2.11,54321)\n",
      "  ------------------------\n",
      "\n",
      "  Open H2O Flow in browser: http://notebook:54323 (CMD + click in Mac OSX)\n",
      "\n",
      "    \n"
     ]
    },
    {
     "data": {
      "text/plain": []
     },
     "execution_count": 1,
     "metadata": {},
     "output_type": "execute_result"
    }
   ],
   "source": [
    "hc"
   ]
  },
  {
   "cell_type": "code",
   "execution_count": 4,
   "metadata": {},
   "outputs": [
    {
     "name": "stdout",
     "output_type": "stream",
     "text": [
      "Parse progress: |█████████████████████████████████████████████████████████| 100%\n",
      "(9999, 22)\n"
     ]
    }
   ],
   "source": [
    "# Import H2O Python library\n",
    "import h2o\n",
    "# View all the available H2O python functions\n",
    "#dir(h2o)\n",
    "\n",
    "# Parse Chicago Crime dataset into H2O\n",
    "column_type = ['numeric','string','string','enum','enum','enum','enum','enum','enum','enum','numeric','numeric','numeric','numeric','enum','numeric','numeric','numeric','enum','numeric','numeric','enum']\n",
    "f_crimes = h2o.import_file(path =\"https://raw.githubusercontent.com/h2oai/h2o-tutorials/master/tutorials/data/chicagoCrimes10k.csv\",col_types =column_type)\n",
    "\n",
    "print(f_crimes.shape)"
   ]
  },
  {
   "cell_type": "code",
   "execution_count": 5,
   "metadata": {},
   "outputs": [
    {
     "data": {
      "text/html": [
       "<table>\n",
       "<thead>\n",
       "<tr><th>       </th><th>ID               </th><th>Case Number  </th><th>Date                  </th><th>Block               </th><th>IUCR  </th><th>Primary Type   </th><th>Description                 </th><th>Location Description  </th><th>Arrest  </th><th>Domestic  </th><th>Beat              </th><th>District          </th><th>Ward              </th><th>Community Area    </th><th>FBI Code  </th><th>X Coordinate      </th><th>Y Coordinate      </th><th>Year  </th><th>Updated On            </th><th>Latitude           </th><th>Longitude          </th><th>Location                     </th></tr>\n",
       "</thead>\n",
       "<tbody>\n",
       "<tr><td>type   </td><td>int              </td><td>string       </td><td>string                </td><td>enum                </td><td>enum  </td><td>enum           </td><td>enum                        </td><td>enum                  </td><td>enum    </td><td>enum      </td><td>int               </td><td>int               </td><td>int               </td><td>int               </td><td>enum      </td><td>int               </td><td>int               </td><td>int   </td><td>enum                  </td><td>real               </td><td>real               </td><td>enum                         </td></tr>\n",
       "<tr><td>mins   </td><td>21735.0          </td><td>NaN          </td><td>NaN                   </td><td>                    </td><td>      </td><td>               </td><td>                            </td><td>                      </td><td>        </td><td>          </td><td>111.0             </td><td>1.0               </td><td>1.0               </td><td>1.0               </td><td>          </td><td>1100317.0         </td><td>1814255.0         </td><td>2015.0</td><td>                      </td><td>41.64507243        </td><td>-87.906463888      </td><td>                             </td></tr>\n",
       "<tr><td>mean   </td><td>9931318.737373699</td><td>NaN          </td><td>NaN                   </td><td>                    </td><td>      </td><td>               </td><td>                            </td><td>                      </td><td>        </td><td>          </td><td>1159.6180618061765</td><td>11.348988512757918</td><td>22.954095409541008</td><td>37.447644764476536</td><td>          </td><td>1163880.5981498407</td><td>1885916.1498424308</td><td>2015.0</td><td>                      </td><td>41.842565224673535 </td><td>-87.67414052209605 </td><td>                             </td></tr>\n",
       "<tr><td>maxs   </td><td>9962898.0        </td><td>NaN          </td><td>NaN                   </td><td>                    </td><td>      </td><td>               </td><td>                            </td><td>                      </td><td>        </td><td>          </td><td>2535.0            </td><td>25.0              </td><td>50.0              </td><td>77.0              </td><td>          </td><td>1205069.0         </td><td>1951533.0         </td><td>2015.0</td><td>                      </td><td>42.022646183       </td><td>-87.524773286      </td><td>                             </td></tr>\n",
       "<tr><td>sigma  </td><td>396787.5642214295</td><td>NaN          </td><td>NaN                   </td><td>                    </td><td>      </td><td>               </td><td>                            </td><td>                      </td><td>        </td><td>          </td><td>695.7602987498396 </td><td>6.945474933012859 </td><td>13.649566114361296</td><td>21.274876222320856</td><td>          </td><td>16496.449368147238</td><td>31274.01631985589 </td><td>0.0   </td><td>                      </td><td>0.08601865793584827</td><td>0.06003579706529783</td><td>                             </td></tr>\n",
       "<tr><td>zeros  </td><td>0                </td><td>0            </td><td>0                     </td><td>                    </td><td>      </td><td>               </td><td>                            </td><td>                      </td><td>        </td><td>          </td><td>0                 </td><td>0                 </td><td>0                 </td><td>0                 </td><td>          </td><td>0                 </td><td>0                 </td><td>0     </td><td>                      </td><td>0                  </td><td>0                  </td><td>                             </td></tr>\n",
       "<tr><td>missing</td><td>0                </td><td>0            </td><td>0                     </td><td>0                   </td><td>0     </td><td>0              </td><td>0                           </td><td>6                     </td><td>0       </td><td>0         </td><td>0                 </td><td>162               </td><td>0                 </td><td>0                 </td><td>0         </td><td>162               </td><td>162               </td><td>0     </td><td>0                     </td><td>162                </td><td>162                </td><td>162                          </td></tr>\n",
       "<tr><td>0      </td><td>9955810.0        </td><td>HY144797     </td><td>02/08/2015 11:43:40 PM</td><td>081XX S COLES AVE   </td><td>1811  </td><td>NARCOTICS      </td><td>POSS: CANNABIS 30GMS OR LESS</td><td>STREET                </td><td>true    </td><td>false     </td><td>422.0             </td><td>4.0               </td><td>7.0               </td><td>46.0              </td><td>18        </td><td>1198273.0         </td><td>1851626.0         </td><td>2015.0</td><td>02/15/2015 12:43:39 PM</td><td>41.747693646       </td><td>-87.549035389      </td><td>(41.747693646, -87.549035389)</td></tr>\n",
       "<tr><td>1      </td><td>9955861.0        </td><td>HY144838     </td><td>02/08/2015 11:41:42 PM</td><td>118XX S STATE ST    </td><td>0486  </td><td>BATTERY        </td><td>DOMESTIC BATTERY SIMPLE     </td><td>APARTMENT             </td><td>true    </td><td>true      </td><td>522.0             </td><td>5.0               </td><td>34.0              </td><td>53.0              </td><td>08B       </td><td>1178335.0         </td><td>1826581.0         </td><td>2015.0</td><td>02/15/2015 12:43:39 PM</td><td>41.679442289       </td><td>-87.622850758      </td><td>(41.679442289, -87.622850758)</td></tr>\n",
       "<tr><td>2      </td><td>9955801.0        </td><td>HY144779     </td><td>02/08/2015 11:30:22 PM</td><td>002XX S LARAMIE AVE </td><td>2026  </td><td>NARCOTICS      </td><td>POSS: PCP                   </td><td>SIDEWALK              </td><td>true    </td><td>false     </td><td>1522.0            </td><td>15.0              </td><td>29.0              </td><td>25.0              </td><td>18        </td><td>1141717.0         </td><td>1898581.0         </td><td>2015.0</td><td>02/15/2015 12:43:39 PM</td><td>41.87777333        </td><td>-87.755117993      </td><td>(41.87777333, -87.755117993) </td></tr>\n",
       "<tr><td>3      </td><td>9956197.0        </td><td>HY144787     </td><td>02/08/2015 11:30:23 PM</td><td>006XX E 67TH ST     </td><td>1811  </td><td>NARCOTICS      </td><td>POSS: CANNABIS 30GMS OR LESS</td><td>STREET                </td><td>true    </td><td>false     </td><td>321.0             </td><td>nan               </td><td>6.0               </td><td>42.0              </td><td>18        </td><td>nan               </td><td>nan               </td><td>2015.0</td><td>02/15/2015 12:43:39 PM</td><td>nan                </td><td>nan                </td><td>                             </td></tr>\n",
       "<tr><td>4      </td><td>9955846.0        </td><td>HY144829     </td><td>02/08/2015 11:30:58 PM</td><td>0000X S MAYFIELD AVE</td><td>0610  </td><td>BURGLARY       </td><td>FORCIBLE ENTRY              </td><td>APARTMENT             </td><td>false   </td><td>false     </td><td>1513.0            </td><td>15.0              </td><td>29.0              </td><td>25.0              </td><td>05        </td><td>1137239.0         </td><td>1899372.0         </td><td>2015.0</td><td>02/15/2015 12:43:39 PM</td><td>41.880025548       </td><td>-87.771541324      </td><td>(41.880025548, -87.771541324)</td></tr>\n",
       "<tr><td>5      </td><td>9955835.0        </td><td>HY144778     </td><td>02/08/2015 11:30:21 PM</td><td>010XX W 48TH ST     </td><td>0486  </td><td>BATTERY        </td><td>DOMESTIC BATTERY SIMPLE     </td><td>APARTMENT             </td><td>false   </td><td>true      </td><td>933.0             </td><td>9.0               </td><td>3.0               </td><td>61.0              </td><td>08B       </td><td>1169986.0         </td><td>1873019.0         </td><td>2015.0</td><td>02/15/2015 12:43:39 PM</td><td>41.807059405       </td><td>-87.65206589       </td><td>(41.807059405, -87.65206589) </td></tr>\n",
       "<tr><td>6      </td><td>9955872.0        </td><td>HY144822     </td><td>02/08/2015 11:27:24 PM</td><td>015XX W ARTHUR AVE  </td><td>1320  </td><td>CRIMINAL DAMAGE</td><td>TO VEHICLE                  </td><td>STREET                </td><td>false   </td><td>false     </td><td>2432.0            </td><td>24.0              </td><td>40.0              </td><td>1.0               </td><td>14        </td><td>1164732.0         </td><td>1943222.0         </td><td>2015.0</td><td>02/15/2015 12:43:39 PM</td><td>41.999814056       </td><td>-87.669342967      </td><td>(41.999814056, -87.669342967)</td></tr>\n",
       "<tr><td>7      </td><td>21752.0          </td><td>HY144738     </td><td>02/08/2015 11:26:12 PM</td><td>060XX W GRAND AVE   </td><td>0110  </td><td>HOMICIDE       </td><td>FIRST DEGREE MURDER         </td><td>STREET                </td><td>true    </td><td>false     </td><td>2512.0            </td><td>25.0              </td><td>37.0              </td><td>19.0              </td><td>01A       </td><td>1135910.0         </td><td>1914206.0         </td><td>2015.0</td><td>02/15/2015 12:43:39 PM</td><td>41.920755683       </td><td>-87.776067514      </td><td>(41.920755683, -87.776067514)</td></tr>\n",
       "<tr><td>8      </td><td>9955808.0        </td><td>HY144775     </td><td>02/08/2015 11:20:33 PM</td><td>001XX W WACKER DR   </td><td>0460  </td><td>BATTERY        </td><td>SIMPLE                      </td><td>OTHER                 </td><td>false   </td><td>false     </td><td>122.0             </td><td>1.0               </td><td>42.0              </td><td>32.0              </td><td>08B       </td><td>1175384.0         </td><td>1902088.0         </td><td>2015.0</td><td>02/15/2015 12:43:39 PM</td><td>41.886707818       </td><td>-87.631396356      </td><td>(41.886707818, -87.631396356)</td></tr>\n",
       "<tr><td>9      </td><td>9958275.0        </td><td>HY146732     </td><td>02/08/2015 11:15:36 PM</td><td>001XX W WACKER DR   </td><td>0460  </td><td>BATTERY        </td><td>SIMPLE                      </td><td>HOTEL/MOTEL           </td><td>false   </td><td>false     </td><td>122.0             </td><td>1.0               </td><td>42.0              </td><td>32.0              </td><td>08B       </td><td>1175384.0         </td><td>1902088.0         </td><td>2015.0</td><td>02/15/2015 12:43:39 PM</td><td>41.886707818       </td><td>-87.631396356      </td><td>(41.886707818, -87.631396356)</td></tr>\n",
       "</tbody>\n",
       "</table>"
      ]
     },
     "metadata": {},
     "output_type": "display_data"
    }
   ],
   "source": [
    "f_crimes.summary()"
   ]
  },
  {
   "cell_type": "code",
   "execution_count": 8,
   "metadata": {},
   "outputs": [
    {
     "name": "stdout",
     "output_type": "stream",
     "text": [
      "['ID', 'Case_Number', 'Date', 'Block', 'IUCR', 'Primary_Type', 'Description', 'Location_Description', 'Arrest', 'Domestic', 'Beat', 'District', 'Ward', 'Community_Area', 'FBI_Code', 'X_Coordinate', 'Y_Coordinate', 'Year', 'Updated_On', 'Latitude', 'Longitude', 'Location']\n"
     ]
    }
   ],
   "source": [
    "# Look at the distribution of IUCR column\n",
    "f_crimes[\"IUCR\"].table()\n",
    "\n",
    "# Look at distribution of Arrest column\n",
    "f_crimes[\"Arrest\"].table()\n",
    "\n",
    "# Modify column names to replace blank spaces with underscore\n",
    "col_names = list(map(lambda s: s.replace(' ', '_'), f_crimes.col_names))\n",
    "print(col_names)"
   ]
  },
  {
   "cell_type": "code",
   "execution_count": 9,
   "metadata": {},
   "outputs": [
    {
     "data": {
      "text/html": [
       "<table>\n",
       "<thead>\n",
       "<tr><th style=\"text-align: right;\">             ID</th><th>Case_Number  </th><th>Date                  </th><th>Block               </th><th style=\"text-align: right;\">  IUCR</th><th>Primary_Type   </th><th>Description                 </th><th>Location_Description  </th><th>Arrest  </th><th>Domestic  </th><th style=\"text-align: right;\">  Beat</th><th style=\"text-align: right;\">  District</th><th style=\"text-align: right;\">  Ward</th><th style=\"text-align: right;\">  Community_Area</th><th>FBI_Code  </th><th style=\"text-align: right;\">  X_Coordinate</th><th style=\"text-align: right;\">  Y_Coordinate</th><th style=\"text-align: right;\">  Year</th><th>Updated_On            </th><th style=\"text-align: right;\">  Latitude</th><th style=\"text-align: right;\">  Longitude</th><th>Location                     </th></tr>\n",
       "</thead>\n",
       "<tbody>\n",
       "<tr><td style=\"text-align: right;\">    9.95581e+06</td><td>HY144797     </td><td>02/08/2015 11:43:40 PM</td><td>081XX S COLES AVE   </td><td style=\"text-align: right;\">  1811</td><td>NARCOTICS      </td><td>POSS: CANNABIS 30GMS OR LESS</td><td>STREET                </td><td>true    </td><td>false     </td><td style=\"text-align: right;\">   422</td><td style=\"text-align: right;\">         4</td><td style=\"text-align: right;\">     7</td><td style=\"text-align: right;\">              46</td><td>18        </td><td style=\"text-align: right;\">   1.19827e+06</td><td style=\"text-align: right;\">   1.85163e+06</td><td style=\"text-align: right;\">  2015</td><td>02/15/2015 12:43:39 PM</td><td style=\"text-align: right;\">   41.7477</td><td style=\"text-align: right;\">   -87.549 </td><td>(41.747693646, -87.549035389)</td></tr>\n",
       "<tr><td style=\"text-align: right;\">    9.95586e+06</td><td>HY144838     </td><td>02/08/2015 11:41:42 PM</td><td>118XX S STATE ST    </td><td style=\"text-align: right;\">  0486</td><td>BATTERY        </td><td>DOMESTIC BATTERY SIMPLE     </td><td>APARTMENT             </td><td>true    </td><td>true      </td><td style=\"text-align: right;\">   522</td><td style=\"text-align: right;\">         5</td><td style=\"text-align: right;\">    34</td><td style=\"text-align: right;\">              53</td><td>08B       </td><td style=\"text-align: right;\">   1.17834e+06</td><td style=\"text-align: right;\">   1.82658e+06</td><td style=\"text-align: right;\">  2015</td><td>02/15/2015 12:43:39 PM</td><td style=\"text-align: right;\">   41.6794</td><td style=\"text-align: right;\">   -87.6229</td><td>(41.679442289, -87.622850758)</td></tr>\n",
       "<tr><td style=\"text-align: right;\">    9.9558e+06 </td><td>HY144779     </td><td>02/08/2015 11:30:22 PM</td><td>002XX S LARAMIE AVE </td><td style=\"text-align: right;\">  2026</td><td>NARCOTICS      </td><td>POSS: PCP                   </td><td>SIDEWALK              </td><td>true    </td><td>false     </td><td style=\"text-align: right;\">  1522</td><td style=\"text-align: right;\">        15</td><td style=\"text-align: right;\">    29</td><td style=\"text-align: right;\">              25</td><td>18        </td><td style=\"text-align: right;\">   1.14172e+06</td><td style=\"text-align: right;\">   1.89858e+06</td><td style=\"text-align: right;\">  2015</td><td>02/15/2015 12:43:39 PM</td><td style=\"text-align: right;\">   41.8778</td><td style=\"text-align: right;\">   -87.7551</td><td>(41.87777333, -87.755117993) </td></tr>\n",
       "<tr><td style=\"text-align: right;\">    9.9562e+06 </td><td>HY144787     </td><td>02/08/2015 11:30:23 PM</td><td>006XX E 67TH ST     </td><td style=\"text-align: right;\">  1811</td><td>NARCOTICS      </td><td>POSS: CANNABIS 30GMS OR LESS</td><td>STREET                </td><td>true    </td><td>false     </td><td style=\"text-align: right;\">   321</td><td style=\"text-align: right;\">       nan</td><td style=\"text-align: right;\">     6</td><td style=\"text-align: right;\">              42</td><td>18        </td><td style=\"text-align: right;\"> nan          </td><td style=\"text-align: right;\"> nan          </td><td style=\"text-align: right;\">  2015</td><td>02/15/2015 12:43:39 PM</td><td style=\"text-align: right;\">  nan     </td><td style=\"text-align: right;\">   nan     </td><td>                             </td></tr>\n",
       "<tr><td style=\"text-align: right;\">    9.95585e+06</td><td>HY144829     </td><td>02/08/2015 11:30:58 PM</td><td>0000X S MAYFIELD AVE</td><td style=\"text-align: right;\">  0610</td><td>BURGLARY       </td><td>FORCIBLE ENTRY              </td><td>APARTMENT             </td><td>false   </td><td>false     </td><td style=\"text-align: right;\">  1513</td><td style=\"text-align: right;\">        15</td><td style=\"text-align: right;\">    29</td><td style=\"text-align: right;\">              25</td><td>05        </td><td style=\"text-align: right;\">   1.13724e+06</td><td style=\"text-align: right;\">   1.89937e+06</td><td style=\"text-align: right;\">  2015</td><td>02/15/2015 12:43:39 PM</td><td style=\"text-align: right;\">   41.88  </td><td style=\"text-align: right;\">   -87.7715</td><td>(41.880025548, -87.771541324)</td></tr>\n",
       "<tr><td style=\"text-align: right;\">    9.95584e+06</td><td>HY144778     </td><td>02/08/2015 11:30:21 PM</td><td>010XX W 48TH ST     </td><td style=\"text-align: right;\">  0486</td><td>BATTERY        </td><td>DOMESTIC BATTERY SIMPLE     </td><td>APARTMENT             </td><td>false   </td><td>true      </td><td style=\"text-align: right;\">   933</td><td style=\"text-align: right;\">         9</td><td style=\"text-align: right;\">     3</td><td style=\"text-align: right;\">              61</td><td>08B       </td><td style=\"text-align: right;\">   1.16999e+06</td><td style=\"text-align: right;\">   1.87302e+06</td><td style=\"text-align: right;\">  2015</td><td>02/15/2015 12:43:39 PM</td><td style=\"text-align: right;\">   41.8071</td><td style=\"text-align: right;\">   -87.6521</td><td>(41.807059405, -87.65206589) </td></tr>\n",
       "<tr><td style=\"text-align: right;\">    9.95587e+06</td><td>HY144822     </td><td>02/08/2015 11:27:24 PM</td><td>015XX W ARTHUR AVE  </td><td style=\"text-align: right;\">  1320</td><td>CRIMINAL DAMAGE</td><td>TO VEHICLE                  </td><td>STREET                </td><td>false   </td><td>false     </td><td style=\"text-align: right;\">  2432</td><td style=\"text-align: right;\">        24</td><td style=\"text-align: right;\">    40</td><td style=\"text-align: right;\">               1</td><td>14        </td><td style=\"text-align: right;\">   1.16473e+06</td><td style=\"text-align: right;\">   1.94322e+06</td><td style=\"text-align: right;\">  2015</td><td>02/15/2015 12:43:39 PM</td><td style=\"text-align: right;\">   41.9998</td><td style=\"text-align: right;\">   -87.6693</td><td>(41.999814056, -87.669342967)</td></tr>\n",
       "<tr><td style=\"text-align: right;\">21752          </td><td>HY144738     </td><td>02/08/2015 11:26:12 PM</td><td>060XX W GRAND AVE   </td><td style=\"text-align: right;\">  0110</td><td>HOMICIDE       </td><td>FIRST DEGREE MURDER         </td><td>STREET                </td><td>true    </td><td>false     </td><td style=\"text-align: right;\">  2512</td><td style=\"text-align: right;\">        25</td><td style=\"text-align: right;\">    37</td><td style=\"text-align: right;\">              19</td><td>01A       </td><td style=\"text-align: right;\">   1.13591e+06</td><td style=\"text-align: right;\">   1.91421e+06</td><td style=\"text-align: right;\">  2015</td><td>02/15/2015 12:43:39 PM</td><td style=\"text-align: right;\">   41.9208</td><td style=\"text-align: right;\">   -87.7761</td><td>(41.920755683, -87.776067514)</td></tr>\n",
       "<tr><td style=\"text-align: right;\">    9.95581e+06</td><td>HY144775     </td><td>02/08/2015 11:20:33 PM</td><td>001XX W WACKER DR   </td><td style=\"text-align: right;\">  0460</td><td>BATTERY        </td><td>SIMPLE                      </td><td>OTHER                 </td><td>false   </td><td>false     </td><td style=\"text-align: right;\">   122</td><td style=\"text-align: right;\">         1</td><td style=\"text-align: right;\">    42</td><td style=\"text-align: right;\">              32</td><td>08B       </td><td style=\"text-align: right;\">   1.17538e+06</td><td style=\"text-align: right;\">   1.90209e+06</td><td style=\"text-align: right;\">  2015</td><td>02/15/2015 12:43:39 PM</td><td style=\"text-align: right;\">   41.8867</td><td style=\"text-align: right;\">   -87.6314</td><td>(41.886707818, -87.631396356)</td></tr>\n",
       "<tr><td style=\"text-align: right;\">    9.95828e+06</td><td>HY146732     </td><td>02/08/2015 11:15:36 PM</td><td>001XX W WACKER DR   </td><td style=\"text-align: right;\">  0460</td><td>BATTERY        </td><td>SIMPLE                      </td><td>HOTEL/MOTEL           </td><td>false   </td><td>false     </td><td style=\"text-align: right;\">   122</td><td style=\"text-align: right;\">         1</td><td style=\"text-align: right;\">    42</td><td style=\"text-align: right;\">              32</td><td>08B       </td><td style=\"text-align: right;\">   1.17538e+06</td><td style=\"text-align: right;\">   1.90209e+06</td><td style=\"text-align: right;\">  2015</td><td>02/15/2015 12:43:39 PM</td><td style=\"text-align: right;\">   41.8867</td><td style=\"text-align: right;\">   -87.6314</td><td>(41.886707818, -87.631396356)</td></tr>\n",
       "</tbody>\n",
       "</table>"
      ]
     },
     "metadata": {},
     "output_type": "display_data"
    },
    {
     "data": {
      "text/plain": []
     },
     "execution_count": 9,
     "metadata": {},
     "output_type": "execute_result"
    }
   ],
   "source": [
    "f_crimes.set_names(col_names)"
   ]
  },
  {
   "cell_type": "code",
   "execution_count": 10,
   "metadata": {},
   "outputs": [],
   "source": [
    "## Refine date column \n",
    "def refine_date_col(data, col, pattern):\n",
    "    data[col]         = data[col].as_date(pattern)\n",
    "    data[\"Day\"]       = data[col].day()\n",
    "    data[\"Month\"]     = data[col].month()    # Since H2O indexes from 0\n",
    "    data[\"Year\"]      = data[col].year()\n",
    "    data[\"WeekNum\"]   = data[col].week()\n",
    "    data[\"WeekDay\"]   = data[col].dayOfWeek()\n",
    "    data[\"HourOfDay\"] = data[col].hour()\n",
    "    \n",
    "    # Create weekend and season cols\n",
    "    data[\"Weekend\"] = (data[\"WeekDay\"] == \"Sun\" or data[\"WeekDay\"] == \"Sat\").ifelse(1, 0)[0]\n",
    "    data[\"Season\"] = data[\"Month\"].cut([0, 2, 5, 7, 10, 12], [\"Winter\", \"Spring\", \"Summer\", \"Autumn\", \"Winter\"])\n",
    "    \n",
    "refine_date_col(f_crimes, \"Date\", \"%m/%d/%Y %I:%M:%S %p\")\n",
    "f_crimes = f_crimes.drop(\"Date\")"
   ]
  },
  {
   "cell_type": "code",
   "execution_count": 11,
   "metadata": {},
   "outputs": [
    {
     "data": {
      "text/html": [
       "<table>\n",
       "<thead>\n",
       "<tr><th style=\"text-align: right;\">             ID</th><th>Case_Number  </th><th>Block               </th><th style=\"text-align: right;\">  IUCR</th><th>Primary_Type   </th><th>Description                 </th><th>Location_Description  </th><th>Arrest  </th><th>Domestic  </th><th style=\"text-align: right;\">  Beat</th><th style=\"text-align: right;\">  District</th><th style=\"text-align: right;\">  Ward</th><th style=\"text-align: right;\">  Community_Area</th><th>FBI_Code  </th><th style=\"text-align: right;\">  X_Coordinate</th><th style=\"text-align: right;\">  Y_Coordinate</th><th style=\"text-align: right;\">  Year</th><th>Updated_On            </th><th style=\"text-align: right;\">  Latitude</th><th style=\"text-align: right;\">  Longitude</th><th>Location                     </th><th style=\"text-align: right;\">  Day</th><th style=\"text-align: right;\">  Month</th><th style=\"text-align: right;\">  WeekNum</th><th>WeekDay  </th><th style=\"text-align: right;\">  HourOfDay</th><th style=\"text-align: right;\">  Weekend</th><th>Season  </th></tr>\n",
       "</thead>\n",
       "<tbody>\n",
       "<tr><td style=\"text-align: right;\">    9.95581e+06</td><td>HY144797     </td><td>081XX S COLES AVE   </td><td style=\"text-align: right;\">  1811</td><td>NARCOTICS      </td><td>POSS: CANNABIS 30GMS OR LESS</td><td>STREET                </td><td>true    </td><td>false     </td><td style=\"text-align: right;\">   422</td><td style=\"text-align: right;\">         4</td><td style=\"text-align: right;\">     7</td><td style=\"text-align: right;\">              46</td><td>18        </td><td style=\"text-align: right;\">   1.19827e+06</td><td style=\"text-align: right;\">   1.85163e+06</td><td style=\"text-align: right;\">  2015</td><td>02/15/2015 12:43:39 PM</td><td style=\"text-align: right;\">   41.7477</td><td style=\"text-align: right;\">   -87.549 </td><td>(41.747693646, -87.549035389)</td><td style=\"text-align: right;\">    8</td><td style=\"text-align: right;\">      2</td><td style=\"text-align: right;\">        6</td><td>Sun      </td><td style=\"text-align: right;\">         23</td><td style=\"text-align: right;\">        1</td><td>Winter  </td></tr>\n",
       "<tr><td style=\"text-align: right;\">    9.95586e+06</td><td>HY144838     </td><td>118XX S STATE ST    </td><td style=\"text-align: right;\">  0486</td><td>BATTERY        </td><td>DOMESTIC BATTERY SIMPLE     </td><td>APARTMENT             </td><td>true    </td><td>true      </td><td style=\"text-align: right;\">   522</td><td style=\"text-align: right;\">         5</td><td style=\"text-align: right;\">    34</td><td style=\"text-align: right;\">              53</td><td>08B       </td><td style=\"text-align: right;\">   1.17834e+06</td><td style=\"text-align: right;\">   1.82658e+06</td><td style=\"text-align: right;\">  2015</td><td>02/15/2015 12:43:39 PM</td><td style=\"text-align: right;\">   41.6794</td><td style=\"text-align: right;\">   -87.6229</td><td>(41.679442289, -87.622850758)</td><td style=\"text-align: right;\">    8</td><td style=\"text-align: right;\">      2</td><td style=\"text-align: right;\">        6</td><td>Sun      </td><td style=\"text-align: right;\">         23</td><td style=\"text-align: right;\">        1</td><td>Winter  </td></tr>\n",
       "<tr><td style=\"text-align: right;\">    9.9558e+06 </td><td>HY144779     </td><td>002XX S LARAMIE AVE </td><td style=\"text-align: right;\">  2026</td><td>NARCOTICS      </td><td>POSS: PCP                   </td><td>SIDEWALK              </td><td>true    </td><td>false     </td><td style=\"text-align: right;\">  1522</td><td style=\"text-align: right;\">        15</td><td style=\"text-align: right;\">    29</td><td style=\"text-align: right;\">              25</td><td>18        </td><td style=\"text-align: right;\">   1.14172e+06</td><td style=\"text-align: right;\">   1.89858e+06</td><td style=\"text-align: right;\">  2015</td><td>02/15/2015 12:43:39 PM</td><td style=\"text-align: right;\">   41.8778</td><td style=\"text-align: right;\">   -87.7551</td><td>(41.87777333, -87.755117993) </td><td style=\"text-align: right;\">    8</td><td style=\"text-align: right;\">      2</td><td style=\"text-align: right;\">        6</td><td>Sun      </td><td style=\"text-align: right;\">         23</td><td style=\"text-align: right;\">        1</td><td>Winter  </td></tr>\n",
       "<tr><td style=\"text-align: right;\">    9.9562e+06 </td><td>HY144787     </td><td>006XX E 67TH ST     </td><td style=\"text-align: right;\">  1811</td><td>NARCOTICS      </td><td>POSS: CANNABIS 30GMS OR LESS</td><td>STREET                </td><td>true    </td><td>false     </td><td style=\"text-align: right;\">   321</td><td style=\"text-align: right;\">       nan</td><td style=\"text-align: right;\">     6</td><td style=\"text-align: right;\">              42</td><td>18        </td><td style=\"text-align: right;\"> nan          </td><td style=\"text-align: right;\"> nan          </td><td style=\"text-align: right;\">  2015</td><td>02/15/2015 12:43:39 PM</td><td style=\"text-align: right;\">  nan     </td><td style=\"text-align: right;\">   nan     </td><td>                             </td><td style=\"text-align: right;\">    8</td><td style=\"text-align: right;\">      2</td><td style=\"text-align: right;\">        6</td><td>Sun      </td><td style=\"text-align: right;\">         23</td><td style=\"text-align: right;\">        1</td><td>Winter  </td></tr>\n",
       "<tr><td style=\"text-align: right;\">    9.95585e+06</td><td>HY144829     </td><td>0000X S MAYFIELD AVE</td><td style=\"text-align: right;\">  0610</td><td>BURGLARY       </td><td>FORCIBLE ENTRY              </td><td>APARTMENT             </td><td>false   </td><td>false     </td><td style=\"text-align: right;\">  1513</td><td style=\"text-align: right;\">        15</td><td style=\"text-align: right;\">    29</td><td style=\"text-align: right;\">              25</td><td>05        </td><td style=\"text-align: right;\">   1.13724e+06</td><td style=\"text-align: right;\">   1.89937e+06</td><td style=\"text-align: right;\">  2015</td><td>02/15/2015 12:43:39 PM</td><td style=\"text-align: right;\">   41.88  </td><td style=\"text-align: right;\">   -87.7715</td><td>(41.880025548, -87.771541324)</td><td style=\"text-align: right;\">    8</td><td style=\"text-align: right;\">      2</td><td style=\"text-align: right;\">        6</td><td>Sun      </td><td style=\"text-align: right;\">         23</td><td style=\"text-align: right;\">        1</td><td>Winter  </td></tr>\n",
       "<tr><td style=\"text-align: right;\">    9.95584e+06</td><td>HY144778     </td><td>010XX W 48TH ST     </td><td style=\"text-align: right;\">  0486</td><td>BATTERY        </td><td>DOMESTIC BATTERY SIMPLE     </td><td>APARTMENT             </td><td>false   </td><td>true      </td><td style=\"text-align: right;\">   933</td><td style=\"text-align: right;\">         9</td><td style=\"text-align: right;\">     3</td><td style=\"text-align: right;\">              61</td><td>08B       </td><td style=\"text-align: right;\">   1.16999e+06</td><td style=\"text-align: right;\">   1.87302e+06</td><td style=\"text-align: right;\">  2015</td><td>02/15/2015 12:43:39 PM</td><td style=\"text-align: right;\">   41.8071</td><td style=\"text-align: right;\">   -87.6521</td><td>(41.807059405, -87.65206589) </td><td style=\"text-align: right;\">    8</td><td style=\"text-align: right;\">      2</td><td style=\"text-align: right;\">        6</td><td>Sun      </td><td style=\"text-align: right;\">         23</td><td style=\"text-align: right;\">        1</td><td>Winter  </td></tr>\n",
       "<tr><td style=\"text-align: right;\">    9.95587e+06</td><td>HY144822     </td><td>015XX W ARTHUR AVE  </td><td style=\"text-align: right;\">  1320</td><td>CRIMINAL DAMAGE</td><td>TO VEHICLE                  </td><td>STREET                </td><td>false   </td><td>false     </td><td style=\"text-align: right;\">  2432</td><td style=\"text-align: right;\">        24</td><td style=\"text-align: right;\">    40</td><td style=\"text-align: right;\">               1</td><td>14        </td><td style=\"text-align: right;\">   1.16473e+06</td><td style=\"text-align: right;\">   1.94322e+06</td><td style=\"text-align: right;\">  2015</td><td>02/15/2015 12:43:39 PM</td><td style=\"text-align: right;\">   41.9998</td><td style=\"text-align: right;\">   -87.6693</td><td>(41.999814056, -87.669342967)</td><td style=\"text-align: right;\">    8</td><td style=\"text-align: right;\">      2</td><td style=\"text-align: right;\">        6</td><td>Sun      </td><td style=\"text-align: right;\">         23</td><td style=\"text-align: right;\">        1</td><td>Winter  </td></tr>\n",
       "<tr><td style=\"text-align: right;\">21752          </td><td>HY144738     </td><td>060XX W GRAND AVE   </td><td style=\"text-align: right;\">  0110</td><td>HOMICIDE       </td><td>FIRST DEGREE MURDER         </td><td>STREET                </td><td>true    </td><td>false     </td><td style=\"text-align: right;\">  2512</td><td style=\"text-align: right;\">        25</td><td style=\"text-align: right;\">    37</td><td style=\"text-align: right;\">              19</td><td>01A       </td><td style=\"text-align: right;\">   1.13591e+06</td><td style=\"text-align: right;\">   1.91421e+06</td><td style=\"text-align: right;\">  2015</td><td>02/15/2015 12:43:39 PM</td><td style=\"text-align: right;\">   41.9208</td><td style=\"text-align: right;\">   -87.7761</td><td>(41.920755683, -87.776067514)</td><td style=\"text-align: right;\">    8</td><td style=\"text-align: right;\">      2</td><td style=\"text-align: right;\">        6</td><td>Sun      </td><td style=\"text-align: right;\">         23</td><td style=\"text-align: right;\">        1</td><td>Winter  </td></tr>\n",
       "<tr><td style=\"text-align: right;\">    9.95581e+06</td><td>HY144775     </td><td>001XX W WACKER DR   </td><td style=\"text-align: right;\">  0460</td><td>BATTERY        </td><td>SIMPLE                      </td><td>OTHER                 </td><td>false   </td><td>false     </td><td style=\"text-align: right;\">   122</td><td style=\"text-align: right;\">         1</td><td style=\"text-align: right;\">    42</td><td style=\"text-align: right;\">              32</td><td>08B       </td><td style=\"text-align: right;\">   1.17538e+06</td><td style=\"text-align: right;\">   1.90209e+06</td><td style=\"text-align: right;\">  2015</td><td>02/15/2015 12:43:39 PM</td><td style=\"text-align: right;\">   41.8867</td><td style=\"text-align: right;\">   -87.6314</td><td>(41.886707818, -87.631396356)</td><td style=\"text-align: right;\">    8</td><td style=\"text-align: right;\">      2</td><td style=\"text-align: right;\">        6</td><td>Sun      </td><td style=\"text-align: right;\">         23</td><td style=\"text-align: right;\">        1</td><td>Winter  </td></tr>\n",
       "<tr><td style=\"text-align: right;\">    9.95828e+06</td><td>HY146732     </td><td>001XX W WACKER DR   </td><td style=\"text-align: right;\">  0460</td><td>BATTERY        </td><td>SIMPLE                      </td><td>HOTEL/MOTEL           </td><td>false   </td><td>false     </td><td style=\"text-align: right;\">   122</td><td style=\"text-align: right;\">         1</td><td style=\"text-align: right;\">    42</td><td style=\"text-align: right;\">              32</td><td>08B       </td><td style=\"text-align: right;\">   1.17538e+06</td><td style=\"text-align: right;\">   1.90209e+06</td><td style=\"text-align: right;\">  2015</td><td>02/15/2015 12:43:39 PM</td><td style=\"text-align: right;\">   41.8867</td><td style=\"text-align: right;\">   -87.6314</td><td>(41.886707818, -87.631396356)</td><td style=\"text-align: right;\">    8</td><td style=\"text-align: right;\">      2</td><td style=\"text-align: right;\">        6</td><td>Sun      </td><td style=\"text-align: right;\">         23</td><td style=\"text-align: right;\">        1</td><td>Winter  </td></tr>\n",
       "</tbody>\n",
       "</table>"
      ]
     },
     "metadata": {},
     "output_type": "display_data"
    },
    {
     "data": {
      "text/plain": []
     },
     "execution_count": 11,
     "metadata": {},
     "output_type": "execute_result"
    }
   ],
   "source": [
    "f_crimes"
   ]
  },
  {
   "cell_type": "code",
   "execution_count": 12,
   "metadata": {},
   "outputs": [
    {
     "name": "stdout",
     "output_type": "stream",
     "text": [
      "Parse progress: |█████████████████████████████████████████████████████████| 100%\n"
     ]
    }
   ],
   "source": [
    "# Parse Census data into H2O\n",
    "f_census = h2o.import_file(\"https://raw.githubusercontent.com/h2oai/h2o-tutorials/master/tutorials/data/chicagoCensus.csv\")"
   ]
  },
  {
   "cell_type": "code",
   "execution_count": 13,
   "metadata": {},
   "outputs": [
    {
     "name": "stdout",
     "output_type": "stream",
     "text": [
      "[77, 9]\n"
     ]
    }
   ],
   "source": [
    "## Update column names in the table\n",
    "col_names = list(map(lambda s: s.strip().replace(' ', '_'), f_census.col_names))\n",
    "f_census.set_names(col_names)\n",
    "f_census = f_census[1:78,:]\n",
    "print(f_census.dim)"
   ]
  },
  {
   "cell_type": "code",
   "execution_count": 32,
   "metadata": {},
   "outputs": [
    {
     "name": "stdout",
     "output_type": "stream",
     "text": [
      "Parse progress: |█████████████████████████████████████████████████████████| 100%\n"
     ]
    }
   ],
   "source": [
    "# Parse Weather data into H2O\n",
    "f_weather = h2o.import_file(\"https://raw.githubusercontent.com/h2oai/h2o-tutorials/master/tutorials/data/chicagoAllWeather.csv\")"
   ]
  },
  {
   "cell_type": "code",
   "execution_count": 33,
   "metadata": {},
   "outputs": [
    {
     "name": "stdout",
     "output_type": "stream",
     "text": [
      "[5162, 6]\n",
      "+-----+---+----+-------+--------+-------+\n",
      "|month|day|year|maxTemp|meanTemp|minTemp|\n",
      "+-----+---+----+-------+--------+-------+\n",
      "|    1|  1|2001|     23|      14|      6|\n",
      "|    1|  2|2001|     18|      12|      6|\n",
      "+-----+---+----+-------+--------+-------+\n",
      "only showing top 2 rows\n",
      "\n"
     ]
    }
   ],
   "source": [
    "f_weather = f_weather[1:]\n",
    "print(f_weather.dim)\n",
    "#f_weather.summary()\n",
    "\n",
    "# Look at all the null entires in the Weather table\n",
    "f_weather[f_weather[\"meanTemp\"].isna()]\n",
    "\n",
    "f_weather\n",
    "\n",
    "# Copy data frames to Spark from H2O\n",
    "df_weather = hc.asSparkFrame(f_weather,)\n",
    "df_census = hc.asSparkFrame(f_census)\n",
    "df_crimes = hc.asSparkFrame(f_crimes)\n",
    "\n",
    "# Look at the weather data as parsed in Spark\n",
    "df_weather.show(2)"
   ]
  },
  {
   "cell_type": "code",
   "execution_count": 34,
   "metadata": {},
   "outputs": [],
   "source": [
    "# Join columns from Crime, Census and Weather DataFrames in Spark\n",
    "sqlContext.sql(\"set spark.sql.caseSensitive=false\") \n",
    "## Register DataFrames as tables in SQL context\n",
    "sqlContext.registerDataFrameAsTable(df_weather, \"chicagoWeather\")\n",
    "sqlContext.registerDataFrameAsTable(df_census, \"chicagoCensus\")\n",
    "sqlContext.registerDataFrameAsTable(df_crimes, \"chicagoCrime\")\n"
   ]
  },
  {
   "cell_type": "code",
   "execution_count": 35,
   "metadata": {},
   "outputs": [
    {
     "name": "stdout",
     "output_type": "stream",
     "text": [
      "+-----+---+----+-------+--------+-------+\n",
      "|month|day|year|maxTemp|meanTemp|minTemp|\n",
      "+-----+---+----+-------+--------+-------+\n",
      "|    1|  1|2001|     23|      14|      6|\n",
      "|    1|  2|2001|     18|      12|      6|\n",
      "+-----+---+----+-------+--------+-------+\n",
      "only showing top 2 rows\n",
      "\n"
     ]
    }
   ],
   "source": [
    "df_weather.show(2)"
   ]
  },
  {
   "cell_type": "code",
   "execution_count": 38,
   "metadata": {},
   "outputs": [
    {
     "name": "stdout",
     "output_type": "stream",
     "text": [
      "+----+-----+---+-------+---------+-------+------+-------+----+-----------------+--------------------+--------------+--------+------+--------+----+----+--------+-------+-------+--------+--------------------------------+-----------------+--------------+--------------------------+--------------------------------+---------------------------+--------------------------------------------+\n",
      "|Year|Month|Day|WeekNum|HourOfDay|Weekend|Season|WeekDay|IUCR|     Primary_Type|Location_Description|Community_Area|District|Arrest|Domestic|Beat|Ward|FBI_Code|minTemp|maxTemp|meanTemp|PERCENT_AGED_UNDER_18_OR_OVER_64|PER_CAPITA_INCOME|HARDSHIP_INDEX|PERCENT_OF_HOUSING_CROWDED|PERCENT_HOUSEHOLDS_BELOW_POVERTY|PERCENT_AGED_16+_UNEMPLOYED|PERCENT_AGED_25+_WITHOUT_HIGH_SCHOOL_DIPLOMA|\n",
      "+----+-----+---+-------+---------+-------+------+-------+----+-----------------+--------------------+--------------+--------+------+--------+----+----+--------+-------+-------+--------+--------------------------------+-----------------+--------------+--------------------------+--------------------------------+---------------------------+--------------------------------------------+\n",
      "|2015|    1| 23|      4|       22|      0|Winter|    Fri|143A|WEAPONS VIOLATION|               ALLEY|            31|      12|  true|   false|1234|  25|      15|     29|     31|      30|                            32.6|            16444|            76|                       9.6|                            25.8|                       15.8|                                        40.7|\n",
      "|2015|    1| 23|      4|       19|      0|Winter|    Fri|4625|    OTHER OFFENSE|            SIDEWALK|            31|      10|  true|   false|1034|  25|      26|     29|     31|      30|                            32.6|            16444|            76|                       9.6|                            25.8|                       15.8|                                        40.7|\n",
      "+----+-----+---+-------+---------+-------+------+-------+----+-----------------+--------------------+--------------+--------+------+--------+----+----+--------+-------+-------+--------+--------------------------------+-----------------+--------------+--------------------------+--------------------------------+---------------------------+--------------------------------------------+\n",
      "only showing top 2 rows\n",
      "\n"
     ]
    }
   ],
   "source": [
    "crimeWithWeather = sqlContext.sql(\"\"\"SELECT\n",
    "a.Year, a.Month, a.Day, a.WeekNum, a.HourOfDay, a.Weekend, a.Season, a.WeekDay,\n",
    "a.IUCR, a.Primary_Type, a.Location_Description, a.Community_Area, a.District,\n",
    "a.Arrest, a.Domestic, a.Beat, a.Ward, a.FBI_Code,\n",
    "b.minTemp, b.maxTemp, b.meanTemp,\n",
    "c.PERCENT_AGED_UNDER_18_OR_OVER_64, c.PER_CAPITA_INCOME, c.HARDSHIP_INDEX,\n",
    "c.PERCENT_OF_HOUSING_CROWDED, c.PERCENT_HOUSEHOLDS_BELOW_POVERTY,\n",
    "c.`PERCENT_AGED_16+_UNEMPLOYED`, c.`PERCENT_AGED_25+_WITHOUT_HIGH_SCHOOL_DIPLOMA`\n",
    "FROM chicagoCrime a\n",
    "JOIN chicagoWeather b\n",
    "ON a.Year = b.year AND a.Month = b.month AND a.Day = b.day\n",
    "JOIN chicagoCensus c\n",
    "ON a.Community_Area = c.Community_Area_Number\"\"\")\n",
    "\n",
    "# Print the crimeWithWeather data table from Spark\n",
    "crimeWithWeather.show(2)"
   ]
  },
  {
   "cell_type": "code",
   "execution_count": 43,
   "metadata": {},
   "outputs": [
    {
     "data": {
      "text/html": [
       "<table>\n",
       "<thead>\n",
       "<tr><th>       </th><th>Year  </th><th>Month             </th><th>Day               </th><th>WeekNum           </th><th>HourOfDay         </th><th>Weekend            </th><th>Season  </th><th>WeekDay  </th><th>IUCR  </th><th>Primary_Type          </th><th>Location_Description  </th><th>Community_Area    </th><th>District          </th><th>Arrest  </th><th>Domestic  </th><th>Beat              </th><th>Ward              </th><th>FBI_Code  </th><th>minTemp          </th><th>maxTemp           </th><th>meanTemp          </th><th>PERCENT_AGED_UNDER_18_OR_OVER_64  </th><th>PER_CAPITA_INCOME  </th><th>HARDSHIP_INDEX    </th><th>PERCENT_OF_HOUSING_CROWDED  </th><th>PERCENT_HOUSEHOLDS_BELOW_POVERTY  </th><th>PERCENT_AGED_16+_UNEMPLOYED  </th><th>PERCENT_AGED_25+_WITHOUT_HIGH_SCHOOL_DIPLOMA  </th></tr>\n",
       "</thead>\n",
       "<tbody>\n",
       "<tr><td>type   </td><td>int   </td><td>int               </td><td>int               </td><td>int               </td><td>int               </td><td>int                </td><td>enum    </td><td>enum     </td><td>enum  </td><td>enum                  </td><td>enum                  </td><td>int               </td><td>int               </td><td>enum    </td><td>enum      </td><td>int               </td><td>int               </td><td>enum      </td><td>int              </td><td>int               </td><td>int               </td><td>real                              </td><td>int                </td><td>int               </td><td>real                        </td><td>real                              </td><td>real                         </td><td>real                                          </td></tr>\n",
       "<tr><td>mins   </td><td>2015.0</td><td>1.0               </td><td>1.0               </td><td>4.0               </td><td>0.0               </td><td>0.0                </td><td>        </td><td>         </td><td>      </td><td>                      </td><td>                      </td><td>2.0               </td><td>1.0               </td><td>        </td><td>          </td><td>111.0             </td><td>1.0               </td><td>          </td><td>-2.0             </td><td>15.0              </td><td>7.0               </td><td>13.5                              </td><td>8201.0             </td><td>1.0               </td><td>0.3                         </td><td>3.3                               </td><td>4.7                          </td><td>2.5                                           </td></tr>\n",
       "<tr><td>mean   </td><td>2015.0</td><td>1.4190698619008937</td><td>17.69181559707555 </td><td>5.1802396425670185</td><td>13.629874086108854</td><td>0.15922014622258326</td><td>        </td><td>         </td><td>      </td><td>                      </td><td>                      </td><td>38.00649878147847 </td><td>11.159719356170037</td><td>        </td><td>          </td><td>1140.1922217709177</td><td>22.578493095044678</td><td>          </td><td>17.69455727051178</td><td>31.709382615759544</td><td>24.932676685621452</td><td>35.17558895207148                 </td><td>25240.96740454915  </td><td>54.715982940698616</td><td>5.4023761169780675          </td><td>24.616094638505277                </td><td>16.953472786352563           </td><td>21.141054021121036                            </td></tr>\n",
       "<tr><td>maxs   </td><td>2015.0</td><td>2.0               </td><td>31.0              </td><td>6.0               </td><td>23.0              </td><td>1.0                </td><td>        </td><td>         </td><td>      </td><td>                      </td><td>                      </td><td>77.0              </td><td>25.0              </td><td>        </td><td>          </td><td>2535.0            </td><td>50.0              </td><td>          </td><td>29.0             </td><td>43.0              </td><td>36.0              </td><td>51.5                              </td><td>88669.0            </td><td>98.0              </td><td>15.8                        </td><td>56.5                              </td><td>35.9                         </td><td>54.8                                          </td></tr>\n",
       "<tr><td>sigma  </td><td>0.0   </td><td>0.4934318960555647</td><td>11.179588951900437</td><td>0.738960225816682 </td><td>6.472460749289907 </td><td>0.3658998307880325 </td><td>        </td><td>         </td><td>      </td><td>                      </td><td>                      </td><td>20.949410220170044</td><td>6.821354676605518 </td><td>        </td><td>          </td><td>683.0185323548574 </td><td>13.403273590839731</td><td>          </td><td>8.96746785139805 </td><td>6.940258151373644 </td><td>7.46762665214585  </td><td>7.961621737751797                 </td><td>18146.902470307054 </td><td>29.48554286718414 </td><td>3.7710043340338393          </td><td>10.22178371386636                 </td><td>7.579665390555998            </td><td>11.468162099376295                            </td></tr>\n",
       "<tr><td>zeros  </td><td>0     </td><td>0                 </td><td>0                 </td><td>0                 </td><td>366               </td><td>8280               </td><td>        </td><td>         </td><td>      </td><td>                      </td><td>                      </td><td>0                 </td><td>0                 </td><td>        </td><td>          </td><td>0                 </td><td>0                 </td><td>          </td><td>0                </td><td>0                 </td><td>0                 </td><td>0                                 </td><td>0                  </td><td>0                 </td><td>0                           </td><td>0                                 </td><td>0                            </td><td>0                                             </td></tr>\n",
       "<tr><td>missing</td><td>0     </td><td>0                 </td><td>0                 </td><td>0                 </td><td>0                 </td><td>0                  </td><td>0       </td><td>0        </td><td>0     </td><td>0                     </td><td>6                     </td><td>0                 </td><td>156               </td><td>0       </td><td>0         </td><td>0                 </td><td>0                 </td><td>0         </td><td>0                </td><td>0                 </td><td>0                 </td><td>0                                 </td><td>0                  </td><td>0                 </td><td>0                           </td><td>0                                 </td><td>0                            </td><td>0                                             </td></tr>\n",
       "<tr><td>0      </td><td>2015.0</td><td>1.0               </td><td>23.0              </td><td>4.0               </td><td>22.0              </td><td>0.0                </td><td>Winter  </td><td>Fri      </td><td>143A  </td><td>WEAPONS VIOLATION     </td><td>ALLEY                 </td><td>31.0              </td><td>12.0              </td><td>true    </td><td>false     </td><td>1234.0            </td><td>25.0              </td><td>15        </td><td>29.0             </td><td>31.0              </td><td>30.0              </td><td>32.6                              </td><td>16444.0            </td><td>76.0              </td><td>9.6                         </td><td>25.8                              </td><td>15.8                         </td><td>40.7                                          </td></tr>\n",
       "<tr><td>1      </td><td>2015.0</td><td>1.0               </td><td>23.0              </td><td>4.0               </td><td>19.0              </td><td>0.0                </td><td>Winter  </td><td>Fri      </td><td>4625  </td><td>OTHER OFFENSE         </td><td>SIDEWALK              </td><td>31.0              </td><td>10.0              </td><td>true    </td><td>false     </td><td>1034.0            </td><td>25.0              </td><td>26        </td><td>29.0             </td><td>31.0              </td><td>30.0              </td><td>32.6                              </td><td>16444.0            </td><td>76.0              </td><td>9.6                         </td><td>25.8                              </td><td>15.8                         </td><td>40.7                                          </td></tr>\n",
       "<tr><td>2      </td><td>2015.0</td><td>1.0               </td><td>23.0              </td><td>4.0               </td><td>19.0              </td><td>0.0                </td><td>Winter  </td><td>Fri      </td><td>0320  </td><td>ROBBERY               </td><td>SMALL RETAIL STORE    </td><td>31.0              </td><td>10.0              </td><td>false   </td><td>false     </td><td>1034.0            </td><td>25.0              </td><td>03        </td><td>29.0             </td><td>31.0              </td><td>30.0              </td><td>32.6                              </td><td>16444.0            </td><td>76.0              </td><td>9.6                         </td><td>25.8                              </td><td>15.8                         </td><td>40.7                                          </td></tr>\n",
       "<tr><td>3      </td><td>2015.0</td><td>1.0               </td><td>23.0              </td><td>4.0               </td><td>18.0              </td><td>0.0                </td><td>Winter  </td><td>Fri      </td><td>1310  </td><td>CRIMINAL DAMAGE       </td><td>RESTAURANT            </td><td>31.0              </td><td>12.0              </td><td>false   </td><td>false     </td><td>1235.0            </td><td>25.0              </td><td>14        </td><td>29.0             </td><td>31.0              </td><td>30.0              </td><td>32.6                              </td><td>16444.0            </td><td>76.0              </td><td>9.6                         </td><td>25.8                              </td><td>15.8                         </td><td>40.7                                          </td></tr>\n",
       "<tr><td>4      </td><td>2015.0</td><td>1.0               </td><td>23.0              </td><td>4.0               </td><td>18.0              </td><td>0.0                </td><td>Winter  </td><td>Fri      </td><td>0610  </td><td>BURGLARY              </td><td>RESIDENCE             </td><td>31.0              </td><td>12.0              </td><td>false   </td><td>false     </td><td>1234.0            </td><td>25.0              </td><td>05        </td><td>29.0             </td><td>31.0              </td><td>30.0              </td><td>32.6                              </td><td>16444.0            </td><td>76.0              </td><td>9.6                         </td><td>25.8                              </td><td>15.8                         </td><td>40.7                                          </td></tr>\n",
       "<tr><td>5      </td><td>2015.0</td><td>1.0               </td><td>23.0              </td><td>4.0               </td><td>16.0              </td><td>0.0                </td><td>Winter  </td><td>Fri      </td><td>2210  </td><td>LIQUOR LAW VIOLATION  </td><td>TAVERN/LIQUOR STORE   </td><td>31.0              </td><td>12.0              </td><td>true    </td><td>false     </td><td>1233.0            </td><td>25.0              </td><td>22        </td><td>29.0             </td><td>31.0              </td><td>30.0              </td><td>32.6                              </td><td>16444.0            </td><td>76.0              </td><td>9.6                         </td><td>25.8                              </td><td>15.8                         </td><td>40.7                                          </td></tr>\n",
       "<tr><td>6      </td><td>2015.0</td><td>1.0               </td><td>23.0              </td><td>4.0               </td><td>16.0              </td><td>0.0                </td><td>Winter  </td><td>Fri      </td><td>0470  </td><td>PUBLIC PEACE VIOLATION</td><td>CTA BUS               </td><td>31.0              </td><td>10.0              </td><td>true    </td><td>false     </td><td>1034.0            </td><td>25.0              </td><td>24        </td><td>29.0             </td><td>31.0              </td><td>30.0              </td><td>32.6                              </td><td>16444.0            </td><td>76.0              </td><td>9.6                         </td><td>25.8                              </td><td>15.8                         </td><td>40.7                                          </td></tr>\n",
       "<tr><td>7      </td><td>2015.0</td><td>1.0               </td><td>23.0              </td><td>4.0               </td><td>15.0              </td><td>0.0                </td><td>Winter  </td><td>Fri      </td><td>1305  </td><td>CRIMINAL DAMAGE       </td><td>RESIDENCE             </td><td>31.0              </td><td>12.0              </td><td>false   </td><td>false     </td><td>1235.0            </td><td>25.0              </td><td>14        </td><td>29.0             </td><td>31.0              </td><td>30.0              </td><td>32.6                              </td><td>16444.0            </td><td>76.0              </td><td>9.6                         </td><td>25.8                              </td><td>15.8                         </td><td>40.7                                          </td></tr>\n",
       "<tr><td>8      </td><td>2015.0</td><td>1.0               </td><td>23.0              </td><td>4.0               </td><td>13.0              </td><td>0.0                </td><td>Winter  </td><td>Fri      </td><td>0486  </td><td>BATTERY               </td><td>RESIDENCE             </td><td>31.0              </td><td>10.0              </td><td>false   </td><td>true      </td><td>1034.0            </td><td>25.0              </td><td>08B       </td><td>29.0             </td><td>31.0              </td><td>30.0              </td><td>32.6                              </td><td>16444.0            </td><td>76.0              </td><td>9.6                         </td><td>25.8                              </td><td>15.8                         </td><td>40.7                                          </td></tr>\n",
       "<tr><td>9      </td><td>2015.0</td><td>1.0               </td><td>23.0              </td><td>4.0               </td><td>13.0              </td><td>0.0                </td><td>Winter  </td><td>Fri      </td><td>0820  </td><td>THEFT                 </td><td>STREET                </td><td>31.0              </td><td>12.0              </td><td>false   </td><td>false     </td><td>1234.0            </td><td>25.0              </td><td>06        </td><td>29.0             </td><td>31.0              </td><td>30.0              </td><td>32.6                              </td><td>16444.0            </td><td>76.0              </td><td>9.6                         </td><td>25.8                              </td><td>15.8                         </td><td>40.7                                          </td></tr>\n",
       "</tbody>\n",
       "</table>"
      ]
     },
     "metadata": {},
     "output_type": "display_data"
    }
   ],
   "source": [
    "#Copy table from Spark to H2O\n",
    "crimeWithWeatherHF = hc.asH2OFrame(crimeWithWeather,h2oFrameName=\"crimeWithWeather\")\n",
    "\n",
    "crimeWithWeatherHF.summary()"
   ]
  },
  {
   "cell_type": "code",
   "execution_count": 44,
   "metadata": {},
   "outputs": [
    {
     "data": {
      "text/html": [
       "<table>\n",
       "<thead>\n",
       "<tr><th>       </th><th>Year  </th><th>Month             </th><th>Day               </th><th>WeekNum           </th><th>HourOfDay         </th><th>Weekend            </th><th>Season  </th><th>WeekDay  </th><th>IUCR  </th><th>Primary_Type          </th><th>Location_Description  </th><th>Community_Area    </th><th>District          </th><th>Arrest  </th><th>Domestic  </th><th>Beat              </th><th>Ward              </th><th>FBI_Code  </th><th>minTemp          </th><th>maxTemp           </th><th>meanTemp          </th><th>PERCENT_AGED_UNDER_18_OR_OVER_64  </th><th>PER_CAPITA_INCOME  </th><th>HARDSHIP_INDEX    </th><th>PERCENT_OF_HOUSING_CROWDED  </th><th>PERCENT_HOUSEHOLDS_BELOW_POVERTY  </th><th>PERCENT_AGED_16+_UNEMPLOYED  </th><th>PERCENT_AGED_25+_WITHOUT_HIGH_SCHOOL_DIPLOMA  </th></tr>\n",
       "</thead>\n",
       "<tbody>\n",
       "<tr><td>type   </td><td>int   </td><td>int               </td><td>int               </td><td>int               </td><td>int               </td><td>int                </td><td>enum    </td><td>enum     </td><td>enum  </td><td>enum                  </td><td>enum                  </td><td>int               </td><td>int               </td><td>enum    </td><td>enum      </td><td>int               </td><td>int               </td><td>enum      </td><td>int              </td><td>int               </td><td>int               </td><td>real                              </td><td>int                </td><td>int               </td><td>real                        </td><td>real                              </td><td>real                         </td><td>real                                          </td></tr>\n",
       "<tr><td>mins   </td><td>2015.0</td><td>1.0               </td><td>1.0               </td><td>4.0               </td><td>0.0               </td><td>0.0                </td><td>        </td><td>         </td><td>      </td><td>                      </td><td>                      </td><td>2.0               </td><td>1.0               </td><td>        </td><td>          </td><td>111.0             </td><td>1.0               </td><td>          </td><td>-2.0             </td><td>15.0              </td><td>7.0               </td><td>13.5                              </td><td>8201.0             </td><td>1.0               </td><td>0.3                         </td><td>3.3                               </td><td>4.7                          </td><td>2.5                                           </td></tr>\n",
       "<tr><td>mean   </td><td>2015.0</td><td>1.4190698619008937</td><td>17.69181559707555 </td><td>5.1802396425670185</td><td>13.629874086108854</td><td>0.15922014622258326</td><td>        </td><td>         </td><td>      </td><td>                      </td><td>                      </td><td>38.00649878147847 </td><td>11.159719356170037</td><td>        </td><td>          </td><td>1140.1922217709177</td><td>22.578493095044678</td><td>          </td><td>17.69455727051178</td><td>31.709382615759544</td><td>24.932676685621452</td><td>35.17558895207148                 </td><td>25240.96740454915  </td><td>54.715982940698616</td><td>5.4023761169780675          </td><td>24.616094638505277                </td><td>16.953472786352563           </td><td>21.141054021121036                            </td></tr>\n",
       "<tr><td>maxs   </td><td>2015.0</td><td>2.0               </td><td>31.0              </td><td>6.0               </td><td>23.0              </td><td>1.0                </td><td>        </td><td>         </td><td>      </td><td>                      </td><td>                      </td><td>77.0              </td><td>25.0              </td><td>        </td><td>          </td><td>2535.0            </td><td>50.0              </td><td>          </td><td>29.0             </td><td>43.0              </td><td>36.0              </td><td>51.5                              </td><td>88669.0            </td><td>98.0              </td><td>15.8                        </td><td>56.5                              </td><td>35.9                         </td><td>54.8                                          </td></tr>\n",
       "<tr><td>sigma  </td><td>0.0   </td><td>0.4934318960555647</td><td>11.179588951900437</td><td>0.738960225816682 </td><td>6.472460749289907 </td><td>0.3658998307880325 </td><td>        </td><td>         </td><td>      </td><td>                      </td><td>                      </td><td>20.949410220170044</td><td>6.821354676605518 </td><td>        </td><td>          </td><td>683.0185323548574 </td><td>13.403273590839731</td><td>          </td><td>8.96746785139805 </td><td>6.940258151373644 </td><td>7.46762665214585  </td><td>7.961621737751797                 </td><td>18146.902470307054 </td><td>29.48554286718414 </td><td>3.7710043340338393          </td><td>10.22178371386636                 </td><td>7.579665390555998            </td><td>11.468162099376295                            </td></tr>\n",
       "<tr><td>zeros  </td><td>0     </td><td>0                 </td><td>0                 </td><td>0                 </td><td>366               </td><td>8280               </td><td>        </td><td>         </td><td>      </td><td>                      </td><td>                      </td><td>0                 </td><td>0                 </td><td>        </td><td>          </td><td>0                 </td><td>0                 </td><td>          </td><td>0                </td><td>0                 </td><td>0                 </td><td>0                                 </td><td>0                  </td><td>0                 </td><td>0                           </td><td>0                                 </td><td>0                            </td><td>0                                             </td></tr>\n",
       "<tr><td>missing</td><td>0     </td><td>0                 </td><td>0                 </td><td>0                 </td><td>0                 </td><td>0                  </td><td>0       </td><td>0        </td><td>0     </td><td>0                     </td><td>6                     </td><td>0                 </td><td>156               </td><td>0       </td><td>0         </td><td>0                 </td><td>0                 </td><td>0         </td><td>0                </td><td>0                 </td><td>0                 </td><td>0                                 </td><td>0                  </td><td>0                 </td><td>0                           </td><td>0                                 </td><td>0                            </td><td>0                                             </td></tr>\n",
       "<tr><td>0      </td><td>2015.0</td><td>1.0               </td><td>23.0              </td><td>4.0               </td><td>22.0              </td><td>0.0                </td><td>Winter  </td><td>Fri      </td><td>143A  </td><td>WEAPONS VIOLATION     </td><td>ALLEY                 </td><td>31.0              </td><td>12.0              </td><td>true    </td><td>false     </td><td>1234.0            </td><td>25.0              </td><td>15        </td><td>29.0             </td><td>31.0              </td><td>30.0              </td><td>32.6                              </td><td>16444.0            </td><td>76.0              </td><td>9.6                         </td><td>25.8                              </td><td>15.8                         </td><td>40.7                                          </td></tr>\n",
       "<tr><td>1      </td><td>2015.0</td><td>1.0               </td><td>23.0              </td><td>4.0               </td><td>19.0              </td><td>0.0                </td><td>Winter  </td><td>Fri      </td><td>4625  </td><td>OTHER OFFENSE         </td><td>SIDEWALK              </td><td>31.0              </td><td>10.0              </td><td>true    </td><td>false     </td><td>1034.0            </td><td>25.0              </td><td>26        </td><td>29.0             </td><td>31.0              </td><td>30.0              </td><td>32.6                              </td><td>16444.0            </td><td>76.0              </td><td>9.6                         </td><td>25.8                              </td><td>15.8                         </td><td>40.7                                          </td></tr>\n",
       "<tr><td>2      </td><td>2015.0</td><td>1.0               </td><td>23.0              </td><td>4.0               </td><td>19.0              </td><td>0.0                </td><td>Winter  </td><td>Fri      </td><td>0320  </td><td>ROBBERY               </td><td>SMALL RETAIL STORE    </td><td>31.0              </td><td>10.0              </td><td>false   </td><td>false     </td><td>1034.0            </td><td>25.0              </td><td>03        </td><td>29.0             </td><td>31.0              </td><td>30.0              </td><td>32.6                              </td><td>16444.0            </td><td>76.0              </td><td>9.6                         </td><td>25.8                              </td><td>15.8                         </td><td>40.7                                          </td></tr>\n",
       "<tr><td>3      </td><td>2015.0</td><td>1.0               </td><td>23.0              </td><td>4.0               </td><td>18.0              </td><td>0.0                </td><td>Winter  </td><td>Fri      </td><td>1310  </td><td>CRIMINAL DAMAGE       </td><td>RESTAURANT            </td><td>31.0              </td><td>12.0              </td><td>false   </td><td>false     </td><td>1235.0            </td><td>25.0              </td><td>14        </td><td>29.0             </td><td>31.0              </td><td>30.0              </td><td>32.6                              </td><td>16444.0            </td><td>76.0              </td><td>9.6                         </td><td>25.8                              </td><td>15.8                         </td><td>40.7                                          </td></tr>\n",
       "<tr><td>4      </td><td>2015.0</td><td>1.0               </td><td>23.0              </td><td>4.0               </td><td>18.0              </td><td>0.0                </td><td>Winter  </td><td>Fri      </td><td>0610  </td><td>BURGLARY              </td><td>RESIDENCE             </td><td>31.0              </td><td>12.0              </td><td>false   </td><td>false     </td><td>1234.0            </td><td>25.0              </td><td>05        </td><td>29.0             </td><td>31.0              </td><td>30.0              </td><td>32.6                              </td><td>16444.0            </td><td>76.0              </td><td>9.6                         </td><td>25.8                              </td><td>15.8                         </td><td>40.7                                          </td></tr>\n",
       "<tr><td>5      </td><td>2015.0</td><td>1.0               </td><td>23.0              </td><td>4.0               </td><td>16.0              </td><td>0.0                </td><td>Winter  </td><td>Fri      </td><td>2210  </td><td>LIQUOR LAW VIOLATION  </td><td>TAVERN/LIQUOR STORE   </td><td>31.0              </td><td>12.0              </td><td>true    </td><td>false     </td><td>1233.0            </td><td>25.0              </td><td>22        </td><td>29.0             </td><td>31.0              </td><td>30.0              </td><td>32.6                              </td><td>16444.0            </td><td>76.0              </td><td>9.6                         </td><td>25.8                              </td><td>15.8                         </td><td>40.7                                          </td></tr>\n",
       "<tr><td>6      </td><td>2015.0</td><td>1.0               </td><td>23.0              </td><td>4.0               </td><td>16.0              </td><td>0.0                </td><td>Winter  </td><td>Fri      </td><td>0470  </td><td>PUBLIC PEACE VIOLATION</td><td>CTA BUS               </td><td>31.0              </td><td>10.0              </td><td>true    </td><td>false     </td><td>1034.0            </td><td>25.0              </td><td>24        </td><td>29.0             </td><td>31.0              </td><td>30.0              </td><td>32.6                              </td><td>16444.0            </td><td>76.0              </td><td>9.6                         </td><td>25.8                              </td><td>15.8                         </td><td>40.7                                          </td></tr>\n",
       "<tr><td>7      </td><td>2015.0</td><td>1.0               </td><td>23.0              </td><td>4.0               </td><td>15.0              </td><td>0.0                </td><td>Winter  </td><td>Fri      </td><td>1305  </td><td>CRIMINAL DAMAGE       </td><td>RESIDENCE             </td><td>31.0              </td><td>12.0              </td><td>false   </td><td>false     </td><td>1235.0            </td><td>25.0              </td><td>14        </td><td>29.0             </td><td>31.0              </td><td>30.0              </td><td>32.6                              </td><td>16444.0            </td><td>76.0              </td><td>9.6                         </td><td>25.8                              </td><td>15.8                         </td><td>40.7                                          </td></tr>\n",
       "<tr><td>8      </td><td>2015.0</td><td>1.0               </td><td>23.0              </td><td>4.0               </td><td>13.0              </td><td>0.0                </td><td>Winter  </td><td>Fri      </td><td>0486  </td><td>BATTERY               </td><td>RESIDENCE             </td><td>31.0              </td><td>10.0              </td><td>false   </td><td>true      </td><td>1034.0            </td><td>25.0              </td><td>08B       </td><td>29.0             </td><td>31.0              </td><td>30.0              </td><td>32.6                              </td><td>16444.0            </td><td>76.0              </td><td>9.6                         </td><td>25.8                              </td><td>15.8                         </td><td>40.7                                          </td></tr>\n",
       "<tr><td>9      </td><td>2015.0</td><td>1.0               </td><td>23.0              </td><td>4.0               </td><td>13.0              </td><td>0.0                </td><td>Winter  </td><td>Fri      </td><td>0820  </td><td>THEFT                 </td><td>STREET                </td><td>31.0              </td><td>12.0              </td><td>false   </td><td>false     </td><td>1234.0            </td><td>25.0              </td><td>06        </td><td>29.0             </td><td>31.0              </td><td>30.0              </td><td>32.6                              </td><td>16444.0            </td><td>76.0              </td><td>9.6                         </td><td>25.8                              </td><td>15.8                         </td><td>40.7                                          </td></tr>\n",
       "</tbody>\n",
       "</table>"
      ]
     },
     "metadata": {},
     "output_type": "display_data"
    }
   ],
   "source": [
    "# Assign column types to the CrimeWeatherHF data table in H2O\n",
    "crimeWithWeatherHF[\"Season\"]= crimeWithWeatherHF[\"Season\"].asfactor()\n",
    "crimeWithWeatherHF[\"WeekDay\"]= crimeWithWeatherHF[\"WeekDay\"].asfactor()\n",
    "crimeWithWeatherHF[\"IUCR\"]= crimeWithWeatherHF[\"IUCR\"].asfactor()\n",
    "crimeWithWeatherHF[\"Primary_Type\"]= crimeWithWeatherHF[\"Primary_Type\"].asfactor()\n",
    "crimeWithWeatherHF[\"Location_Description\"]= crimeWithWeatherHF[\"Location_Description\"].asfactor()\n",
    "crimeWithWeatherHF[\"Arrest\"]= crimeWithWeatherHF[\"Arrest\"].asfactor()\n",
    "crimeWithWeatherHF[\"Domestic\"]= crimeWithWeatherHF[\"Domestic\"].asfactor()\n",
    "crimeWithWeatherHF[\"FBI_Code\"]= crimeWithWeatherHF[\"FBI_Code\"].asfactor()\n",
    "crimeWithWeatherHF[\"Season\"]= crimeWithWeatherHF[\"Season\"].asfactor()\n",
    "\n",
    "crimeWithWeatherHF.summary()"
   ]
  },
  {
   "cell_type": "code",
   "execution_count": 45,
   "metadata": {},
   "outputs": [],
   "source": [
    "# Split final H2O data table into train test and validation sets\n",
    "ratios = [0.6,0.2]\n",
    "frs = crimeWithWeatherHF.split_frame(ratios,seed=12345)\n",
    "train = frs[0]\n",
    "train.frame_id = \"Train\"\n",
    "valid = frs[2]\n",
    "valid.frame_id = \"Validation\"\n",
    "test = frs[1]\n",
    "test.frame_id = \"Test\"\n",
    "\n",
    "# Import Model Builders from H2O Python\n",
    "from h2o.estimators.gbm import H2OGradientBoostingEstimator\n",
    "from h2o.estimators.deeplearning import H2ODeepLearningEstimator"
   ]
  },
  {
   "cell_type": "code",
   "execution_count": 47,
   "metadata": {},
   "outputs": [
    {
     "name": "stdout",
     "output_type": "stream",
     "text": [
      "gbm Model Build progress: |███████████████████████████████████████████████| 100%\n",
      "deeplearning Model Build progress: |██████████████████████████████████████| 100%\n",
      "\n",
      "Confusion Matrix (Act/Pred) for max f1 @ threshold = 0.315182239892842: \n"
     ]
    },
    {
     "data": {
      "text/html": [
       "<div>\n",
       "<style scoped>\n",
       "    .dataframe tbody tr th:only-of-type {\n",
       "        vertical-align: middle;\n",
       "    }\n",
       "\n",
       "    .dataframe tbody tr th {\n",
       "        vertical-align: top;\n",
       "    }\n",
       "\n",
       "    .dataframe thead th {\n",
       "        text-align: right;\n",
       "    }\n",
       "</style>\n",
       "<table border=\"1\" class=\"dataframe\">\n",
       "  <thead>\n",
       "    <tr style=\"text-align: right;\">\n",
       "      <th></th>\n",
       "      <th></th>\n",
       "      <th>false</th>\n",
       "      <th>true</th>\n",
       "      <th>Error</th>\n",
       "      <th>Rate</th>\n",
       "    </tr>\n",
       "  </thead>\n",
       "  <tbody>\n",
       "    <tr>\n",
       "      <th>0</th>\n",
       "      <td>false</td>\n",
       "      <td>4067.0</td>\n",
       "      <td>137.0</td>\n",
       "      <td>0.0326</td>\n",
       "      <td>(137.0/4204.0)</td>\n",
       "    </tr>\n",
       "    <tr>\n",
       "      <th>1</th>\n",
       "      <td>true</td>\n",
       "      <td>194.0</td>\n",
       "      <td>1542.0</td>\n",
       "      <td>0.1118</td>\n",
       "      <td>(194.0/1736.0)</td>\n",
       "    </tr>\n",
       "    <tr>\n",
       "      <th>2</th>\n",
       "      <td>Total</td>\n",
       "      <td>4261.0</td>\n",
       "      <td>1679.0</td>\n",
       "      <td>0.0557</td>\n",
       "      <td>(331.0/5940.0)</td>\n",
       "    </tr>\n",
       "  </tbody>\n",
       "</table>\n",
       "</div>"
      ],
      "text/plain": [
       "           false    true   Error             Rate\n",
       "0  false  4067.0   137.0  0.0326   (137.0/4204.0)\n",
       "1   true   194.0  1542.0  0.1118   (194.0/1736.0)\n",
       "2  Total  4261.0  1679.0  0.0557   (331.0/5940.0)"
      ]
     },
     "metadata": {},
     "output_type": "display_data"
    },
    {
     "name": "stdout",
     "output_type": "stream",
     "text": [
      "\n",
      "\n",
      "Confusion Matrix (Act/Pred) for max f1 @ threshold = 0.3771275122410874: \n"
     ]
    },
    {
     "data": {
      "text/html": [
       "<div>\n",
       "<style scoped>\n",
       "    .dataframe tbody tr th:only-of-type {\n",
       "        vertical-align: middle;\n",
       "    }\n",
       "\n",
       "    .dataframe tbody tr th {\n",
       "        vertical-align: top;\n",
       "    }\n",
       "\n",
       "    .dataframe thead th {\n",
       "        text-align: right;\n",
       "    }\n",
       "</style>\n",
       "<table border=\"1\" class=\"dataframe\">\n",
       "  <thead>\n",
       "    <tr style=\"text-align: right;\">\n",
       "      <th></th>\n",
       "      <th></th>\n",
       "      <th>false</th>\n",
       "      <th>true</th>\n",
       "      <th>Error</th>\n",
       "      <th>Rate</th>\n",
       "    </tr>\n",
       "  </thead>\n",
       "  <tbody>\n",
       "    <tr>\n",
       "      <th>0</th>\n",
       "      <td>false</td>\n",
       "      <td>1293.0</td>\n",
       "      <td>89.0</td>\n",
       "      <td>0.0644</td>\n",
       "      <td>(89.0/1382.0)</td>\n",
       "    </tr>\n",
       "    <tr>\n",
       "      <th>1</th>\n",
       "      <td>true</td>\n",
       "      <td>125.0</td>\n",
       "      <td>420.0</td>\n",
       "      <td>0.2294</td>\n",
       "      <td>(125.0/545.0)</td>\n",
       "    </tr>\n",
       "    <tr>\n",
       "      <th>2</th>\n",
       "      <td>Total</td>\n",
       "      <td>1418.0</td>\n",
       "      <td>509.0</td>\n",
       "      <td>0.1111</td>\n",
       "      <td>(214.0/1927.0)</td>\n",
       "    </tr>\n",
       "  </tbody>\n",
       "</table>\n",
       "</div>"
      ],
      "text/plain": [
       "           false   true   Error             Rate\n",
       "0  false  1293.0   89.0  0.0644    (89.0/1382.0)\n",
       "1   true   125.0  420.0  0.2294    (125.0/545.0)\n",
       "2  Total  1418.0  509.0  0.1111   (214.0/1927.0)"
      ]
     },
     "metadata": {},
     "output_type": "display_data"
    },
    {
     "name": "stdout",
     "output_type": "stream",
     "text": [
      "\n",
      "0.9818566199844784\n",
      "0.9200865651429254\n"
     ]
    },
    {
     "data": {
      "image/png": "[encoded data removed]",
      "text/plain": [
       "<Figure size 432x288 with 1 Axes>"
      ]
     },
     "metadata": {
      "needs_background": "light"
     },
     "output_type": "display_data"
    }
   ],
   "source": [
    "# Define Preditors\n",
    "predictors = crimeWithWeatherHF.names[:]\n",
    "response = \"Arrest\"\n",
    "predictors.remove(response)\n",
    "\n",
    "#Simple GBM model - Predict Arrest\n",
    "model_gbm = H2OGradientBoostingEstimator(ntrees         =50,\n",
    "                                        max_depth      =6,\n",
    "                                        learn_rate     =0.1, \n",
    "                                        #nfolds         =2,\n",
    "                                        distribution   =\"bernoulli\")\n",
    "\n",
    "model_gbm.train(x               =predictors,\n",
    "               y               =\"Arrest\",\n",
    "               training_frame  =train,\n",
    "               validation_frame=valid\n",
    "               )\n",
    "\n",
    "# Simple Deep Learning - Predict Arrest\n",
    "model_dl = H2ODeepLearningEstimator(variable_importances=True,\n",
    "                                   loss                =\"Automatic\")\n",
    "\n",
    "model_dl.train(x                =predictors,\n",
    "              y                =\"Arrest\",\n",
    "              training_frame  =train,\n",
    "              validation_frame=valid)\n",
    "\n",
    "# Print confusion matrices for the train and validation set\n",
    "print(model_gbm.confusion_matrix(train = True))\n",
    "print(model_gbm.confusion_matrix(valid = True))\n",
    "\n",
    "print(model_gbm.auc(train=True))\n",
    "print(model_gbm.auc(valid=True))\n",
    "model_gbm.plot(metric=\"auc\")"
   ]
  },
  {
   "cell_type": "code",
   "execution_count": null,
   "metadata": {},
   "outputs": [],
   "source": []
  }
 ],
 "metadata": {
  "kernelspec": {
   "display_name": "PySparkling + Sparkling Water",
   "language": "python",
   "name": "pysparkling"
  },
  "language_info": {
   "codemirror_mode": {
    "name": "ipython",
    "version": 3
   },
   "file_extension": ".py",
   "mimetype": "text/x-python",
   "name": "python",
   "nbconvert_exporter": "python",
   "pygments_lexer": "ipython3",
   "version": "3.6.9"
  }
 },
 "nbformat": 4,
 "nbformat_minor": 4
}
