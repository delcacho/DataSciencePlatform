{
 "cells": [
  {
   "cell_type": "code",
   "execution_count": null,
   "metadata": {},
   "outputs": [],
   "source": [
    "# The data set used in this example is from http://archive.ics.uci.edu/ml/datasets/Wine+Quality\n",
    "# P. Cortez, A. Cerdeira, F. Almeida, T. Matos and J. Reis.\n",
    "# Modeling wine preferences by data mining from physicochemical properties. In Decision Support Systems, Elsevier, 47(4):547-553, 2009.\n",
    "\n",
    "import os\n",
    "import warnings\n",
    "import sys\n",
    "\n",
    "import pandas as pd\n",
    "import numpy as np\n",
    "from sklearn.metrics import mean_squared_error, mean_absolute_error, r2_score\n",
    "from sklearn.model_selection import train_test_split\n",
    "from sklearn.linear_model import ElasticNet\n",
    "\n",
    "import mlflow\n",
    "import mlflow.sklearn\n",
    "\n",
    "\n",
    "def eval_metrics(actual, pred):\n",
    "    rmse = np.sqrt(mean_squared_error(actual, pred))\n",
    "    mae = mean_absolute_error(actual, pred)\n",
    "    r2 = r2_score(actual, pred)\n",
    "    return rmse, mae, r2\n",
    "\n",
    "\n",
    "\n",
    "if __name__ == \"__main__\":\n",
    "    warnings.filterwarnings(\"ignore\")\n",
    "    np.random.seed(40)\n",
    "\n",
    "    # Read the wine-quality csv file (make sure you're running this from the root of MLflow!)\n",
    "    wine_path = \"https://raw.githubusercontent.com/databricks/mlflow-example-sklearn-elasticnet-wine/master/wine-quality.csv\"\n",
    "    data = pd.read_csv(wine_path)\n",
    "\n",
    "    # Split the data into training and test sets. (0.75, 0.25) split.\n",
    "    train, test = train_test_split(data)\n",
    "\n",
    "    # The predicted column is \"quality\" which is a scalar from [3, 9]\n",
    "    train_x = train.drop([\"quality\"], axis=1)\n",
    "    test_x = test.drop([\"quality\"], axis=1)\n",
    "    train_y = train[[\"quality\"]]\n",
    "    test_y = test[[\"quality\"]]\n",
    "\n",
    "    #alpha = 0.3\n",
    "    l1_ratio = 0.5\n",
    "    \n",
    "    #mlflow.create_experiment(\"Experimento Wine\")\n",
    "    mlflow.set_experiment(\"Experimento Wine\")\n",
    "    \n",
    "    for alpha in np.arange(0.1,1.0,0.05):\n",
    "        for l1_ratio in np.arange(0.1,1.0,0.05):\n",
    "            with mlflow.start_run():\n",
    "                lr = ElasticNet(alpha=alpha, l1_ratio=l1_ratio, random_state=42)\n",
    "                lr.fit(train_x, train_y)\n",
    "\n",
    "                predicted_qualities = lr.predict(test_x)\n",
    "\n",
    "                (rmse, mae, r2) = eval_metrics(test_y, predicted_qualities)\n",
    "\n",
    "                print(\"Elasticnet model (alpha=%f, l1_ratio=%f):\" % (alpha, l1_ratio))\n",
    "                print(\"  RMSE: %s\" % rmse)\n",
    "                print(\"  MAE: %s\" % mae)\n",
    "                print(\"  R2: %s\" % r2)\n",
    "\n",
    "                mlflow.log_param(\"alpha\", alpha)\n",
    "                mlflow.log_param(\"l1_ratio\", l1_ratio)\n",
    "                mlflow.log_metric(\"rmse\", rmse)\n",
    "                mlflow.log_metric(\"r2\", r2)\n",
    "                mlflow.log_metric(\"mae\", mae)\n",
    "                print(\"Going to log model\")\n",
    "                mlflow.sklearn.log_model(lr,\"wine\")\n",
    "                print(\"Done!\")\n"
   ]
  },
  {
   "cell_type": "markdown",
   "metadata": {},
   "source": [
    "Run this locally to push a Ubuntu image into Amazon ECR.\n",
    "\n",
    "mlflow sagemaker build-and-push-container"
   ]
  },
  {
   "cell_type": "code",
   "execution_count": null,
   "metadata": {},
   "outputs": [],
   "source": [
    "import mlflow.sagemaker as mfs\n",
    "app_name = \"wine-deployment-goyeah\"\n",
    "mfs.deploy(app_name=app_name, model_uri=\"models:/deployment-wine/1\",\n",
    "           image_url=\"301813298158.dkr.ecr.us-east-1.amazonaws.com/mlflow-pyfunc:1.7.2\",\n",
    "           region_name=\"us-east-1\", mode=mfs.DEPLOYMENT_MODE_REPLACE)"
   ]
  },
  {
   "cell_type": "code",
   "execution_count": null,
   "metadata": {},
   "outputs": [],
   "source": [
    "import boto3\n",
    "import json\n",
    "from sklearn import datasets\n",
    "\n",
    "app_name = \"wine-deployment-goyeah\"\n",
    "wine_path = \"https://raw.githubusercontent.com/databricks/mlflow-example-sklearn-elasticnet-wine/master/wine-quality.csv\"\n",
    "data = pd.read_csv(wine_path)\n",
    "endpoint_name = app_name\n",
    "print(endpoint_name)\n",
    "print(boto3.client('sts').get_caller_identity())\n",
    "runtime = boto3.Session().client(service_name='sagemaker-runtime',region_name='us-east-1')\n",
    "\n",
    "data = data.drop(\"quality\",axis=1)\n",
    "input_json = data.iloc[[2]].to_json(orient=\"split\",index=False)\n",
    "print(input_json)\n",
    "\n",
    "response = runtime.invoke_endpoint(EndpointName=endpoint_name, ContentType='application/json', Body=input_json)\n",
    "result = json.loads(response['Body'].read().decode(\"utf-8\"))\n",
    "print(\"Prediction: {}\".format(result))"
   ]
  },
  {
   "cell_type": "code",
   "execution_count": null,
   "metadata": {},
   "outputs": [],
   "source": [
    "!wget https://runtime.sagemaker.eu-east-1.amazonaws.com/endpoints/wine-deployment-goyeah/invocations"
   ]
  },
  {
   "cell_type": "code",
   "execution_count": null,
   "metadata": {},
   "outputs": [],
   "source": [
    "!nslookup runtime.sagemaker.eu-east-1.amazonaws.com"
   ]
  },
  {
   "cell_type": "code",
   "execution_count": null,
   "metadata": {},
   "outputs": [],
   "source": []
  }
 ],
 "metadata": {
  "kernelspec": {
   "display_name": "Python 3",
   "language": "python",
   "name": "python3"
  },
  "language_info": {
   "codemirror_mode": {
    "name": "ipython",
    "version": 3
   },
   "file_extension": ".py",
   "mimetype": "text/x-python",
   "name": "python",
   "nbconvert_exporter": "python",
   "pygments_lexer": "ipython3",
   "version": "3.6.9"
  },
  "toc": {
   "base_numbering": 1,
   "nav_menu": {},
   "number_sections": true,
   "sideBar": true,
   "skip_h1_title": false,
   "title_cell": "Table of Contents",
   "title_sidebar": "Contents",
   "toc_cell": false,
   "toc_position": {},
   "toc_section_display": true,
   "toc_window_display": false
  }
 },
 "nbformat": 4,
 "nbformat_minor": 4
}
